{
  "nbformat": 4,
  "nbformat_minor": 0,
  "metadata": {
    "colab": {
      "name": "1st",
      "version": "0.3.2",
      "provenance": [],
      "collapsed_sections": [],
      "include_colab_link": true
    },
    "kernelspec": {
      "name": "python2",
      "display_name": "Python 2"
    }
  },
  "cells": [
    {
      "cell_type": "markdown",
      "metadata": {
        "id": "view-in-github",
        "colab_type": "text"
      },
      "source": [
        "<a href=\"https://colab.research.google.com/github/Fallinginyoureye/pythonLearning/blob/master/1st.ipynb\" target=\"_parent\"><img src=\"https://colab.research.google.com/assets/colab-badge.svg\" alt=\"Open In Colab\"/></a>"
      ]
    },
    {
      "cell_type": "code",
      "metadata": {
        "id": "V0gb8kTFjjjP",
        "colab_type": "code",
        "outputId": "aa3d24a8-847e-4da3-fae3-2679651312d7",
        "colab": {
          "base_uri": "https://localhost:8080/",
          "height": 89
        }
      },
      "source": [
        "\"\"\"\n",
        "author Dong Jiaxin\n",
        "learning to python\n",
        "\"\"\"\n",
        "print(\"hello world\")\n",
        "print(\"你好，python的世界\")\n",
        "\n",
        "#string = \"qwer\"*2 #字符串累加,变量赋值\n",
        "#print(string)\n",
        "\n",
        "#print(type(string)) #输出变量类型，包括int(integer)，Float，str(String)，bool(Boolean)\n",
        "\n",
        "#True and True #与操作\n",
        "\n",
        "#True or false #或操作\n",
        "\n",
        "#not True #非操作\n",
        "\n",
        "#1 == 1 #单条判断\n",
        "\n",
        "#8600 * 3 <= 15000 and 8600 * (3 + 2.1) * 205 #多条判断，用 and、or、! 连接\n",
        "\n",
        "tuple = (2, 1.3, \"string\", 2.33, True) #定义数组\n",
        "print(type(tuple))\n",
        "\n",
        "list = [True, 10, \"smile\"]\n",
        "print(type(list))"
      ],
      "execution_count": 15,
      "outputs": [
        {
          "output_type": "stream",
          "text": [
            "hello world\n",
            "你好，python的世界\n",
            "<type 'tuple'>\n",
            "<type 'list'>\n"
          ],
          "name": "stdout"
        }
      ]
    }
  ]
}